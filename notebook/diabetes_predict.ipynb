{
 "cells": [
  {
   "cell_type": "code",
   "execution_count": 1,
   "id": "5764beaa-8e46-4a7d-ac28-80f239edf9d3",
   "metadata": {},
   "outputs": [
    {
     "data": {
      "application/vnd.jupyter.widget-view+json": {
       "model_id": "062096bf83cf470b9e26a29c994d9670",
       "version_major": 2,
       "version_minor": 0
      },
      "text/plain": [
       "Downloading artifacts:   0%|          | 0/5 [00:00<?, ?it/s]"
      ]
     },
     "metadata": {},
     "output_type": "display_data"
    },
    {
     "name": "stdout",
     "output_type": "stream",
     "text": [
      "[100.07498289 152.52165647 150.21417623 142.84845985 112.84745415\n",
      " 156.33150913 173.85962559 104.02708713 272.6439135   91.77913995\n",
      "  93.38201939 125.32760502 176.60928225 116.19085243 235.04543626\n",
      " 125.7095865  181.40051488  99.27409108 109.33497511 135.98557021\n",
      " 153.86845817 165.5853754  183.99662456  94.13780057 216.63937792\n",
      " 230.32322962 153.42402263 132.87731417 144.60470101 253.76422409\n",
      "  86.45569202 107.20796894 222.22328797 159.03668357 260.15416937\n",
      "  99.93566372  87.00322769 229.37229502 149.07486277  93.23973266\n",
      "  84.52158367 145.31208287 111.72132805 241.19483402 114.56474317\n",
      "  84.56719441  93.67413092 127.14837865 180.92873815 207.48298279\n",
      " 110.60914418  90.67934376 210.3174675   95.21691856 148.68231869\n",
      " 160.86812837 177.93725394 190.54497391 112.55095543  94.60515161\n",
      " 107.63649226  82.39794121 211.62246935  92.96071587 146.04883909\n",
      " 102.69591201  90.54656258 165.98927861 105.53158572  89.4210044\n",
      " 205.12978608 231.30640055 197.43200896 221.76039274 161.78231116\n",
      "  94.77866612 100.29302992 225.74623809 100.47249447 176.72912919\n",
      " 154.28617585 156.18935924 109.46333883 150.97833043 111.80394981\n",
      " 247.81166845  85.33518317 161.68800446  85.19758342 225.81294289\n",
      "  93.05967172  84.54346125 179.07065879 162.37581798 157.23360658\n",
      "  82.81459684 123.45827168 139.33991001 144.43087953 134.14622325\n",
      " 158.84236314 109.74238844 140.13450422 183.11608451 259.27347632\n",
      "  99.69453737 246.84802737 154.97923735 118.25304164 179.59538516\n",
      "  91.4858829 ]\n"
     ]
    }
   ],
   "source": [
    "import mlflow\n",
    "\n",
    "from sklearn.model_selection import train_test_split\n",
    "from sklearn.datasets import load_diabetes\n",
    "\n",
    "mlflow.set_tracking_uri('http://mlflow-web:5000')\n",
    "\n",
    "db = load_diabetes()\n",
    "X_train, X_test, y_train, y_test = train_test_split(db.data, db.target)\n",
    "\n",
    "run_id = \"bc854fc7f3a344e2bb555eec032b58df\"\n",
    "model = mlflow.sklearn.load_model(f\"runs:/{run_id}/model\")\n",
    "predictions = model.predict(X_test)\n",
    "print(predictions)"
   ]
  },
  {
   "cell_type": "code",
   "execution_count": null,
   "id": "4017caaa-2262-4c9c-ab92-e0052b736784",
   "metadata": {},
   "outputs": [],
   "source": []
  }
 ],
 "metadata": {
  "kernelspec": {
   "display_name": "Python 3 (ipykernel)",
   "language": "python",
   "name": "python3"
  },
  "language_info": {
   "codemirror_mode": {
    "name": "ipython",
    "version": 3
   },
   "file_extension": ".py",
   "mimetype": "text/x-python",
   "name": "python",
   "nbconvert_exporter": "python",
   "pygments_lexer": "ipython3",
   "version": "3.11.6"
  }
 },
 "nbformat": 4,
 "nbformat_minor": 5
}
